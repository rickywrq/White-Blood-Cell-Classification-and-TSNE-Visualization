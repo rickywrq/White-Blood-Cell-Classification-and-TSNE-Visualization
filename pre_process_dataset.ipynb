{
 "cells": [
  {
   "cell_type": "code",
   "execution_count": 1,
   "metadata": {},
   "outputs": [],
   "source": [
    "import glob\n",
    "import os\n",
    "images = glob.glob('dataset_original/train/*.jpg')"
   ]
  },
  {
   "cell_type": "code",
   "execution_count": 2,
   "metadata": {},
   "outputs": [
    {
     "name": "stdout",
     "output_type": "stream",
     "text": [
      "{'LY': 874, 'EO': 1260, 'PLATELET': 881, 'SNE': 800, 'BA': 795}\n"
     ]
    }
   ],
   "source": [
    "cell_types = {}\n",
    "for img_path in images:\n",
    "    base = os.path.basename(img_path)\n",
    "    first = base.split('_')[0]\n",
    "    cell_types[first] = cell_types.get(first, 0) + 1\n",
    "print(cell_types)"
   ]
  },
  {
   "cell_type": "code",
   "execution_count": 3,
   "metadata": {},
   "outputs": [],
   "source": [
    "import pathlib\n",
    "for k, v in cell_types.items():\n",
    "    pathlib.Path(f'dataset/train/{k}').mkdir(parents=True, exist_ok=True)\n",
    "    pathlib.Path(f'dataset/val/{k}').mkdir(parents=True, exist_ok=True)"
   ]
  },
  {
   "cell_type": "code",
   "execution_count": 4,
   "metadata": {},
   "outputs": [],
   "source": [
    "import shutil\n",
    "images = glob.glob('dataset_original/train/*.jpg')\n",
    "for img_path in images:\n",
    "    base = os.path.basename(img_path)\n",
    "    first = base.split('_')[0]\n",
    "    shutil.copy(img_path, f'dataset/train/{first}/{base}')"
   ]
  },
  {
   "cell_type": "code",
   "execution_count": 5,
   "metadata": {},
   "outputs": [],
   "source": [
    "images = glob.glob('dataset_original/test/*.jpg')\n",
    "for img_path in images:\n",
    "    base = os.path.basename(img_path)\n",
    "    first = base.split('_')[0]\n",
    "    shutil.copy(img_path, f'dataset/val/{first}/{base}')"
   ]
  }
 ],
 "metadata": {
  "kernelspec": {
   "display_name": "dist_py311",
   "language": "python",
   "name": "python3"
  },
  "language_info": {
   "codemirror_mode": {
    "name": "ipython",
    "version": 3
   },
   "file_extension": ".py",
   "mimetype": "text/x-python",
   "name": "python",
   "nbconvert_exporter": "python",
   "pygments_lexer": "ipython3",
   "version": "3.11.7"
  }
 },
 "nbformat": 4,
 "nbformat_minor": 2
}
